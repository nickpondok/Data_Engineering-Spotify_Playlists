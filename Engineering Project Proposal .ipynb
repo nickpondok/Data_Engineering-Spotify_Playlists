{
 "cells": [
  {
   "cell_type": "markdown",
   "metadata": {},
   "source": [
    "## Question/need:\n",
    " ### What is the framing question of your analysis, or the purpose of the model/system you plan to build? Who benefits from exploring this question or building this model/system?\n",
    "    Spotitfy curates a number of playlists through their algorithm for each genre. The most popular playlists of this type typically consist of \"new\" and \"hot\" songs of that genre. If an artist's song gets featured on one of these playlists, it will provide a boost in streams and notoriety. What this project would hope to answer is whether songs in these playlists have similar audio features using features defined by spotify. Since these playlists are updated frequently (usually weekly, sometimes daily), it could be beneficial to see the audio features of the current songs for each playlist. Artists and producers could benefit from this by using it to help make creative decisions. Seeing common audio features amongst the songs being featured could help an artist make the next big hit. \n",
    "    \n",
    "## Data Description:\n",
    "### What dataset(s) do you plan to use, and how will you obtain the data? What is an individual sample/unit of analysis in this project? What characteristics/features do you expect to work with? If modeling, what will you predict as your target?\n",
    "    I'm going to look at 20 spotify playlists which consist of anywhere between 50-100 songs each. For each song I will be taking a look at the 12 audio features stored in the spotify api. \n",
    "\n",
    "\n",
    "## Tools:\n",
    "### How do you intend to meet the tools requirement of the project? Are you planning in advance to need or use additional tools beyond those required?\n",
    "    I will be using the spotify library spotipy for data collection and I will store this data on a sql database. I will present the information on a dashboard. Lastly will flask to deploy the application. \n",
    "    \n",
    "## MVP Goal:\n",
    "### What would a MVP look like for this project?\n",
    "    An MVP for this project will be consist of a small subset of my data that can successfully pass through my pipline.  "
   ]
  },
  {
   "cell_type": "code",
   "execution_count": null,
   "metadata": {},
   "outputs": [],
   "source": []
  }
 ],
 "metadata": {
  "kernelspec": {
   "display_name": "Python 3",
   "language": "python",
   "name": "python3"
  },
  "language_info": {
   "codemirror_mode": {
    "name": "ipython",
    "version": 3
   },
   "file_extension": ".py",
   "mimetype": "text/x-python",
   "name": "python",
   "nbconvert_exporter": "python",
   "pygments_lexer": "ipython3",
   "version": "3.8.5"
  }
 },
 "nbformat": 4,
 "nbformat_minor": 5
}
