{
 "cells": [
  {
   "cell_type": "code",
   "execution_count": 2,
   "id": "4b4b9510",
   "metadata": {},
   "outputs": [],
   "source": [
    "import pickle\n",
    "import sqlite3\n",
    "import datetime \n",
    "from sqlalchemy import create_engine\n",
    "from sqlalchemy import inspect\n",
    "import pyodbc\n",
    "import requests\n",
    "import spotipy\n",
    "import pandas as pd\n",
    "from spotipy.oauth2 import SpotifyClientCredentials\n",
    "import spotipy.util as util\n",
    "import streamlit as st\n",
    "# To make things easier later, we're also importing numpy and pandas for\n",
    "# working with sample data.\n",
    "import numpy as np\n",
    "import matplotlib.pyplot as plt\n",
    "import time\n"
   ]
  },
  {
   "cell_type": "code",
   "execution_count": 3,
   "id": "6afdf4c5",
   "metadata": {},
   "outputs": [],
   "source": [
    "SPOTIPY_CLIENT_ID=\"ba5fae975b7f45b6949824e976fbbf8a\"\n",
    "SPOTIPY_CLIENT_SECRET=\"811fe6fa3a73436292d83c891b2fa66b\"\n",
    "auth_manager = SpotifyClientCredentials(client_id=SPOTIPY_CLIENT_ID, client_secret=SPOTIPY_CLIENT_SECRET)\n",
    "sp = spotipy.Spotify(auth_manager=auth_manager)\n",
    "\n",
    "#establish sql db engine\n",
    "engine = create_engine(\"sqlite:///sql_db/spotify_features.db\")"
   ]
  },
  {
   "cell_type": "code",
   "execution_count": 4,
   "id": "77fdc149",
   "metadata": {},
   "outputs": [],
   "source": [
    "#get list of genres available on spotify\n",
    "\n",
    "genre_ids=[]\n",
    "for i in range(0,1000,50):\n",
    "    spotify_genres=(sp.categories(country='US',limit = 50,offset=i)['categories']['items'])\n",
    "    for item in spotify_genres:\n",
    "        genre_ids.append(item['id'])"
   ]
  },
  {
   "cell_type": "code",
   "execution_count": 6,
   "id": "37155ffb",
   "metadata": {},
   "outputs": [],
   "source": [
    "'''function to get all the genres, playlist_ids, and playlist titles for spotify curated playlists \n",
    "associated with each genre'''\n",
    "\n",
    "def get_genre_playlists(genre_id):\n",
    "    try:\n",
    "        playlist_dict={}\n",
    "        for i in range (0,1000,50):\n",
    "            try:\n",
    "                genre_playlists = sp.category_playlists(genre_id,country='US',limit = 50,offset=i)\n",
    "            except ReadTimeout:\n",
    "                print('Spotify timed out... trying again...')\n",
    "                genre_playlists = sp.category_playlists(genre_id,country='US',limit = 50,offset=i)\n",
    "            \n",
    "            for item in genre_playlists['playlists']['items']:\n",
    "                try:\n",
    "                    if item['name'] in playlist_dict:\n",
    "                        playlist_dict[item['name']].update({genre_id:item['id']})\n",
    "                    else:\n",
    "                        playlist_dict[item['name']]= {genre_id:item['id']}\n",
    "                except TypeError or spotipy.exceptions.SpotifyException:\n",
    "                    print(f'{genre_id} playlists do not exists','\\n')\n",
    "                    continue\n",
    "        for key, value in playlist_dict.items():\n",
    "            if value is None:\n",
    "                del d[key]\n",
    "        return playlist_dict\n",
    "    except spotipy.exceptions.SpotifyException:\n",
    "        pass\n",
    "    \n",
    "    \n",
    "    \n",
    "\n",
    "    "
   ]
  },
  {
   "cell_type": "code",
   "execution_count": 8,
   "id": "c91769b3",
   "metadata": {},
   "outputs": [],
   "source": [
    "# get df with all playlists and their IDs\n",
    "def get_playlist_df(genre_id):   \n",
    "    genre_playlists = get_genre_playlists(genre_id)\n",
    "    playlist_df_list=[]\n",
    "    try:\n",
    "        new_df = pd.DataFrame.from_dict(genre_playlists,orient='index')\n",
    "        try:\n",
    "            new_df['genre']=new_df.columns.tolist()[0]\n",
    "            new_df.columns.values[0] = \"playlist_id\"\n",
    "            playlist_df_list.append(new_df)\n",
    "        except IndexError:\n",
    "            pass       \n",
    "    except TypeError:\n",
    "        pass\n",
    "    try:\n",
    "        playlist_df=pd.concat(playlist_df_list)\n",
    "        playlist_df=playlist_df.reset_index()\n",
    "        playlist_df=playlist_df.rename(columns={\"index\": \"playlist_name\"})\n",
    "        if type(playlist_df) == None:\n",
    "            pass\n",
    "        else:\n",
    "            return playlist_df\n",
    "    except ValueError:\n",
    "        pass"
   ]
  },
  {
   "cell_type": "code",
   "execution_count": 12,
   "id": "a3cc9896",
   "metadata": {},
   "outputs": [],
   "source": [
    "#convert miliseconds to minutes\n",
    "def convert_to_mins(duration_ms):\n",
    "    seconds = duration_ms/1000\n",
    "    minutes=seconds/60\n",
    "    return minutes\n",
    "\n",
    "#get the audio features for each song of a playlist into a dataframe and then store into sql db\n",
    "def get_playlist_features(genre_id):\n",
    "    df=get_playlist_df(genre_id)\n",
    "    list_of_playlist_ids=df['playlist_id'].tolist()\n",
    "    list_of_dfs=[]\n",
    "    for playlist_id in list_of_playlist_ids:                \n",
    "    #             try:\n",
    "        playlist_list = sp.playlist_tracks(playlist_id,additional_types=('track', ))['items']\n",
    "    #             except ReadTimeout:\n",
    "    #                 print('Spotify timed out... trying again...')\n",
    "    #                 playlist_list = sp.playlist_tracks(playlist_id,additional_types=('track', ))['items']\n",
    "    #             try:\n",
    "        track_id_dict = {}\n",
    "        audio_features_dict = {}\n",
    "        popularity_dict = {}\n",
    "        for item in playlist_list:\n",
    "            try:\n",
    "                track_id_dict[item['track']['name']]=item['track']['id']\n",
    "                popularity_dict[item['track']['name']]=(item['track']['popularity'])\n",
    "            except TypeError:\n",
    "                continue\n",
    "\n",
    "        for key in track_id_dict:\n",
    "            try:\n",
    "                audio_features_dict[key]=sp.audio_features(track_id_dict[key])[0]\n",
    "            except AttributeError:\n",
    "                pass\n",
    "        try:\n",
    "            audio_df = pd.DataFrame.from_dict(audio_features_dict, orient='index')\n",
    "            popularity_df = pd.DataFrame.from_dict(popularity_dict, orient='index')\n",
    "            popularity_df.rename(columns={0: \"popularity\"},inplace = True)\n",
    "            audio_df = audio_df.merge(popularity_df,how='left',left_index=True,right_index=True)\n",
    "            audio_df=audio_df.reset_index()\n",
    "            audio_df=audio_df.rename(columns={\"index\": \"song_name\"}) \n",
    "            audio_df['playlist_id'] = playlist_id\n",
    "            audio_df = audio_df.merge(df,how='outer',on='playlist_id')\n",
    "        #     display(audio_df)\n",
    "            list_of_dfs.append(audio_df)\n",
    "            del popularity_df\n",
    "        except AttributeError:\n",
    "            pass\n",
    "        \n",
    "    final_df = pd.concat(list_of_dfs)\n",
    "    try:\n",
    "        final_df['duration_ms']=final_df['duration_ms'].apply(convert_to_mins)\n",
    "        final_df = final_df.rename(columns={\"duration_ms\": \"duration_mins\"})\n",
    "        final_df[\"date_pulled\"]=pd.to_datetime('today').normalize()\n",
    "        final_df.drop_duplicates(subset=['song_name'],inplace=True)\n",
    "        final_df=final_df.reset_index(drop=True)\n",
    "    except KeyError:\n",
    "        pass\n",
    "    final_df.to_sql('audio_features', con=engine, index=True,if_exists='append')\n",
    "    pickle.dump( final_df, open( \"spotify.pkl\", \"wb\" ) )\n",
    "    return final_df"
   ]
  },
  {
   "cell_type": "code",
   "execution_count": 15,
   "id": "4527a85a",
   "metadata": {},
   "outputs": [],
   "source": [
    "#final function that takes in list of all genre_ids and store into sql db\n",
    "\n",
    "def get_all_data(list_of_genre_ids):\n",
    "    for genre_id in list_of_genre_ids:\n",
    "        try:\n",
    "            get_playlist_features(genre_id)\n",
    "            time.sleep(10)\n",
    "        except TypeError:\n",
    "            pass\n",
    "            \n",
    "    return 'All stored in database'\n",
    "\n",
    "\n",
    "    "
   ]
  },
  {
   "cell_type": "code",
   "execution_count": 17,
   "id": "75b50cef",
   "metadata": {},
   "outputs": [
    {
     "data": {
      "text/plain": [
       "'All stored in database'"
      ]
     },
     "execution_count": 17,
     "metadata": {},
     "output_type": "execute_result"
    }
   ],
   "source": [
    "get_all_data(genre_ids)"
   ]
  },
  {
   "cell_type": "code",
   "execution_count": null,
   "id": "6836a111",
   "metadata": {},
   "outputs": [],
   "source": [
    "#chronjob scheduled for Fridays at 12:00"
   ]
  }
 ],
 "metadata": {
  "kernelspec": {
   "display_name": "Python 3",
   "language": "python",
   "name": "python3"
  },
  "language_info": {
   "codemirror_mode": {
    "name": "ipython",
    "version": 3
   },
   "file_extension": ".py",
   "mimetype": "text/x-python",
   "name": "python",
   "nbconvert_exporter": "python",
   "pygments_lexer": "ipython3",
   "version": "3.8.8"
  }
 },
 "nbformat": 4,
 "nbformat_minor": 5
}
